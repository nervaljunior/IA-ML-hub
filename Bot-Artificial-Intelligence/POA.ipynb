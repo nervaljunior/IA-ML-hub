{
 "cells": [
  {
   "cell_type": "markdown",
   "id": "55012959",
   "metadata": {},
   "source": [
    "# Agentes"
   ]
  },
  {
   "cell_type": "code",
   "execution_count": 5,
   "id": "c6be0522",
   "metadata": {},
   "outputs": [],
   "source": [
    "class coisa:\n",
    "    def __init__(self,estado=None):\n",
    "        self.estado=estado\n",
    "    def __repr__(self):\n",
    "        return '<{}>'.format(getattr(self,'__name__',self.__class__.__name__))\n",
    "    def mostraEstado(self):\n",
    "        return str(self.estado)\n",
    "    def vivo(self):\n",
    "        return hasatrr(self,'vivo') and self.vivo"
   ]
  },
  {
   "cell_type": "code",
   "execution_count": 6,
   "id": "75d617a9",
   "metadata": {},
   "outputs": [
    {
     "data": {
      "text/plain": [
       "<coisa>"
      ]
     },
     "execution_count": 6,
     "metadata": {},
     "output_type": "execute_result"
    }
   ],
   "source": [
    "c=coisa()\n",
    "c"
   ]
  },
  {
   "cell_type": "code",
   "execution_count": 10,
   "id": "90027d4a",
   "metadata": {},
   "outputs": [],
   "source": [
    "class agente(coisa):\n",
    "    def __init__(self,estado=None,funcaoAgente=None):\n",
    "        super().__init__(estado)\n",
    "        if funcaoAgente==None:\n",
    "            def funcaagente(*entradas):\n",
    "                return \"ação default\"\n",
    "            self.funcaoAgente=funcaoAgente\n",
    "            self.historiapercep=[]\n",
    "    def percepcao(self):\n",
    "        entrada=input(\"entre com dados\")\n",
    "        self.historiapercep.append(eval(entrada))\n",
    "    def saida(self):\n",
    "        return self.funcaoagente(self.historiapercep)\n",
    "    "
   ]
  },
  {
   "cell_type": "code",
   "execution_count": 12,
   "id": "c8993cb9",
   "metadata": {},
   "outputs": [
    {
     "data": {
      "text/plain": [
       "<agente>"
      ]
     },
     "execution_count": 12,
     "metadata": {},
     "output_type": "execute_result"
    }
   ],
   "source": [
    "a=agente()\n",
    "a"
   ]
  },
  {
   "cell_type": "code",
   "execution_count": 16,
   "id": "be02a210",
   "metadata": {},
   "outputs": [
    {
     "name": "stdout",
     "output_type": "stream",
     "text": [
      "entre com dados6\n"
     ]
    }
   ],
   "source": [
    "a.percepcao()"
   ]
  },
  {
   "cell_type": "code",
   "execution_count": 17,
   "id": "47e93f77",
   "metadata": {},
   "outputs": [
    {
     "data": {
      "text/plain": [
       "[1, 6]"
      ]
     },
     "execution_count": 17,
     "metadata": {},
     "output_type": "execute_result"
    }
   ],
   "source": [
    "a.historiapercep"
   ]
  },
  {
   "cell_type": "code",
   "execution_count": 18,
   "id": "a739d9ae",
   "metadata": {},
   "outputs": [],
   "source": [
    "class ambiente:\n",
    "    def __init__(self,estadoinicial=None):\n",
    "        self.estado=estadoinicial\n",
    "        self.objetosambiente=[]\n",
    "        self.agentes=[]\n",
    "    def percepcao(self,agente):\n",
    "        return None\n",
    "    def adicionaagente(self,agente):\n",
    "        self.agentes.append(agente)\n",
    "    def adicionaobjeto(self,objeto):\n",
    "        self.objetosambiente.append(objeto)"
   ]
  },
  {
   "cell_type": "code",
   "execution_count": 23,
   "id": "83bb2b39",
   "metadata": {},
   "outputs": [],
   "source": [
    "am=ambiente()\n",
    "am.adicionaagente(a)"
   ]
  },
  {
   "cell_type": "code",
   "execution_count": 24,
   "id": "3543ca34",
   "metadata": {},
   "outputs": [
    {
     "data": {
      "text/plain": [
       "<__main__.ambiente at 0x24282c982e0>"
      ]
     },
     "execution_count": 24,
     "metadata": {},
     "output_type": "execute_result"
    }
   ],
   "source": []
  },
  {
   "cell_type": "code",
   "execution_count": null,
   "id": "fbbbd23c",
   "metadata": {},
   "outputs": [],
   "source": []
  }
 ],
 "metadata": {
  "kernelspec": {
   "display_name": "Python 3 (ipykernel)",
   "language": "python",
   "name": "python3"
  },
  "language_info": {
   "codemirror_mode": {
    "name": "ipython",
    "version": 3
   },
   "file_extension": ".py",
   "mimetype": "text/x-python",
   "name": "python",
   "nbconvert_exporter": "python",
   "pygments_lexer": "ipython3",
   "version": "3.9.13"
  }
 },
 "nbformat": 4,
 "nbformat_minor": 5
}
